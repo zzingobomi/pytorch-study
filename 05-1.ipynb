{
 "cells": [
  {
   "cell_type": "code",
   "execution_count": 2,
   "metadata": {},
   "outputs": [
    {
     "name": "stdout",
     "output_type": "stream",
     "text": [
      "Files already downloaded and verified\n",
      "Files already downloaded and verified\n"
     ]
    }
   ],
   "source": [
    "from torchvision.datasets import CIFAR10\n",
    "import torchvision.transforms as transforms\n",
    "from torch.utils.data import DataLoader\n",
    "\n",
    "cifar10_classes = [\n",
    "    \"airplane\",\n",
    "    \"automobile\",\n",
    "    \"bird\",\n",
    "    \"cat\",\n",
    "    \"deer\",\n",
    "    \"dog\",\n",
    "    \"frog\",\n",
    "    \"horse\",\n",
    "    \"ship\",\n",
    "    \"truck\",\n",
    "]\n",
    "\n",
    "affine = transforms.RandomAffine(degrees=(-30, 30), scale=(0.8, 1.2))\n",
    "flip = transforms.RandomHorizontalFlip(p=0.5)\n",
    "normalize = transforms.Normalize(mean=(0.0, 0.0, 0.0), std=(1.0, 1.0, 1.0))\n",
    "\n",
    "to_tensor = transforms.ToTensor()\n",
    "\n",
    "transform_train = transforms.Compose([affine, flip, to_tensor, normalize])\n",
    "transform_test = transforms.Compose([to_tensor, normalize])\n",
    "cifar10_train = CIFAR10(\n",
    "    root=\"./data\", train=True, download=True, transform=transform_train\n",
    ")\n",
    "cifar10_test = CIFAR10(\n",
    "    root=\"./data\", train=False, download=True, transform=transform_test\n",
    ")\n",
    "\n",
    "# DataLoader의 설정\n",
    "batch_size = 64\n",
    "train_loader = DataLoader(cifar10_train, batch_size=batch_size, shuffle=True)\n",
    "test_loader = DataLoader(cifar10_test, batch_size=batch_size, shuffle=False)"
   ]
  },
  {
   "cell_type": "code",
   "execution_count": 3,
   "metadata": {},
   "outputs": [
    {
     "name": "stdout",
     "output_type": "stream",
     "text": [
      "Net(\n",
      "  (conv1): Conv2d(3, 8, kernel_size=(5, 5), stride=(1, 1))\n",
      "  (relu): ReLU()\n",
      "  (pool): MaxPool2d(kernel_size=2, stride=2, padding=0, dilation=1, ceil_mode=False)\n",
      "  (conv2): Conv2d(8, 16, kernel_size=(5, 5), stride=(1, 1))\n",
      "  (fc1): Linear(in_features=400, out_features=256, bias=True)\n",
      "  (dropout): Dropout(p=0.5, inplace=False)\n",
      "  (fc2): Linear(in_features=256, out_features=10, bias=True)\n",
      ")\n"
     ]
    }
   ],
   "source": [
    "import torch\n",
    "import torch.nn as nn\n",
    "\n",
    "\n",
    "class Net(nn.Module):\n",
    "    def __init__(self):\n",
    "        super().__init__()\n",
    "        self.conv1 = nn.Conv2d(3, 8, 5)  # 합성곱층(입력 채널 수, 필터 수, 필터 크기)\n",
    "        self.relu = nn.ReLU()\n",
    "        self.pool = nn.MaxPool2d(2, 2)  # 풀링층(영역의 크기, 영역의 간격)\n",
    "        self.conv2 = nn.Conv2d(8, 16, 5)\n",
    "        self.fc1 = nn.Linear(16 * 5 * 5, 256)\n",
    "        self.dropout = nn.Dropout(p=0.5)\n",
    "        self.fc2 = nn.Linear(256, 10)\n",
    "\n",
    "    def forward(self, x):\n",
    "        x = self.relu(self.conv1(x))\n",
    "        x = self.pool(x)\n",
    "        x = self.relu(self.conv2(x))\n",
    "        x = self.pool(x)\n",
    "        x = x.view(-1, 16 * 5 * 5)\n",
    "        x = self.relu(self.fc1(x))\n",
    "        x = self.dropout(x)\n",
    "        x = self.fc2(x)\n",
    "        return x\n",
    "\n",
    "\n",
    "net = Net()\n",
    "# net.cuda() # GPU로 전송\n",
    "device = torch.device(\"mps\" if torch.backends.mps.is_available() else \"cpu\")\n",
    "net.to(device)\n",
    "print(net)"
   ]
  },
  {
   "cell_type": "code",
   "execution_count": 4,
   "metadata": {},
   "outputs": [
    {
     "name": "stdout",
     "output_type": "stream",
     "text": [
      "EPOCH: 0, Loss(train): 1.8155918130484383, Loss(test): 1.5025604105299446\n",
      "EPOCH: 1, Loss(train): 1.5816041680857957, Loss(test): 1.4076077201563841\n",
      "EPOCH: 2, Loss(train): 1.510293127478236, Loss(test): 1.3462563639233827\n",
      "EPOCH: 3, Loss(train): 1.464023309747886, Loss(test): 1.3253191003374234\n",
      "EPOCH: 4, Loss(train): 1.4234465738696516, Loss(test): 1.2809859294040946\n",
      "EPOCH: 5, Loss(train): 1.3976199351003409, Loss(test): 1.2285321453574356\n",
      "EPOCH: 6, Loss(train): 1.375252105772038, Loss(test): 1.2127824444679698\n",
      "EPOCH: 7, Loss(train): 1.3675976793479432, Loss(test): 1.1974977395337099\n",
      "EPOCH: 8, Loss(train): 1.3584867903338673, Loss(test): 1.2007285808302035\n",
      "EPOCH: 9, Loss(train): 1.3383608428413605, Loss(test): 1.1818101425079783\n",
      "EPOCH: 10, Loss(train): 1.3313824798140075, Loss(test): 1.1698367819664584\n",
      "EPOCH: 11, Loss(train): 1.3259127534868773, Loss(test): 1.1519792903760435\n",
      "EPOCH: 12, Loss(train): 1.310716788558399, Loss(test): 1.1430409383621944\n",
      "EPOCH: 13, Loss(train): 1.3089832652865163, Loss(test): 1.1817110226412488\n",
      "EPOCH: 14, Loss(train): 1.2977322721115463, Loss(test): 1.1427790571929544\n",
      "EPOCH: 15, Loss(train): 1.2914648087280791, Loss(test): 1.121215459647452\n",
      "EPOCH: 16, Loss(train): 1.291789600916226, Loss(test): 1.1324341889399632\n",
      "EPOCH: 17, Loss(train): 1.282659857321883, Loss(test): 1.1240774484197045\n",
      "EPOCH: 18, Loss(train): 1.2749689357817326, Loss(test): 1.1060490463949313\n",
      "EPOCH: 19, Loss(train): 1.2755525913232428, Loss(test): 1.1009890406754366\n"
     ]
    }
   ],
   "source": [
    "from torch import optim\n",
    "\n",
    "loss_fnc = nn.CrossEntropyLoss()\n",
    "\n",
    "optimizer = optim.Adam(net.parameters())\n",
    "\n",
    "record_loss_train = []\n",
    "record_loss_test = []\n",
    "\n",
    "for i in range(20):\n",
    "    net.train()\n",
    "    loss_train = 0\n",
    "    for j, (x, t) in enumerate(train_loader):\n",
    "        x, t = x.to(device), t.to(device)\n",
    "        # x, t = x.cuda(), t.cuda()\n",
    "        y = net(x)\n",
    "        loss = loss_fnc(y, t)\n",
    "        loss_train += loss.item()\n",
    "        optimizer.zero_grad()\n",
    "        loss.backward()\n",
    "        optimizer.step()\n",
    "    loss_train /= j + 1\n",
    "    record_loss_train.append(loss_train)\n",
    "\n",
    "    net.eval()\n",
    "    loss_test = 0\n",
    "    for j, (x, t) in enumerate(test_loader):\n",
    "        x, t = x.to(device), t.to(device)\n",
    "        # x, t = x.cuda(), t.cuda()\n",
    "        y = net(x)\n",
    "        loss = loss_fnc(y, t)\n",
    "        loss_test += loss.item()\n",
    "    loss_test /= j + 1\n",
    "    record_loss_test.append(loss_test)\n",
    "\n",
    "    if i % 1 == 0:\n",
    "        print(f\"EPOCH: {i}, Loss(train): {loss_train}, Loss(test): {loss_test}\")"
   ]
  },
  {
   "cell_type": "code",
   "execution_count": 5,
   "metadata": {},
   "outputs": [
    {
     "data": {
      "image/png": "[encoded data removed]",
      "text/plain": [
       "<Figure size 640x480 with 1 Axes>"
      ]
     },
     "metadata": {},
     "output_type": "display_data"
    }
   ],
   "source": [
    "import matplotlib.pyplot as plt\n",
    "\n",
    "plt.plot(range(len(record_loss_train)), record_loss_train, label=\"Train\")\n",
    "plt.plot(range(len(record_loss_test)), record_loss_test, label=\"Test\")\n",
    "plt.legend()\n",
    "\n",
    "plt.xlabel(\"Epochs\")\n",
    "plt.ylabel(\"Error\")\n",
    "plt.show()"
   ]
  },
  {
   "cell_type": "code",
   "execution_count": 6,
   "metadata": {},
   "outputs": [
    {
     "name": "stdout",
     "output_type": "stream",
     "text": [
      "정답률:  60.22%\n"
     ]
    }
   ],
   "source": [
    "correct = 0\n",
    "total = 0\n",
    "net.eval()\n",
    "for i, (x, t) in enumerate(test_loader):\n",
    "    x, t = x.to(device), t.to(device)\n",
    "    # x, t = x.cuda(), t.cuda()\n",
    "    y = net(x)\n",
    "    correct += (y.argmax(1) == t).sum().item()\n",
    "    total += len(x)\n",
    "\n",
    "print(\"정답률: \", str(correct / total * 100) + \"%\")"
   ]
  },
  {
   "cell_type": "code",
   "execution_count": 8,
   "metadata": {},
   "outputs": [
    {
     "data": {
      "image/png": "[encoded data removed]",
      "text/plain": [
       "<Figure size 640x480 with 1 Axes>"
      ]
     },
     "metadata": {},
     "output_type": "display_data"
    },
    {
     "name": "stdout",
     "output_type": "stream",
     "text": [
      "정답:  airplane 예측 결과:  airplane\n"
     ]
    }
   ],
   "source": [
    "cifar10_loader = DataLoader(cifar10_test, batch_size=1, shuffle=True)\n",
    "dataiter = iter(cifar10_loader)\n",
    "images, labels = next(dataiter)\n",
    "\n",
    "plt.imshow(images[0].permute(1, 2, 0))\n",
    "plt.tick_params(labelbottom=False, labelleft=False, bottom=False, left=False)\n",
    "plt.show()\n",
    "\n",
    "net.eval()\n",
    "x, t = images.to(device), labels.to(device)\n",
    "# x, t = images.cuda(), labels.cuda()\n",
    "y = net(x)\n",
    "print(\n",
    "    \"정답: \",\n",
    "    cifar10_classes[labels[0]],\n",
    "    \"예측 결과: \",\n",
    "    cifar10_classes[y.argmax().item()],\n",
    ")"
   ]
  }
 ],
 "metadata": {
  "kernelspec": {
   "display_name": ".venv",
   "language": "python",
   "name": "python3"
  },
  "language_info": {
   "codemirror_mode": {
    "name": "ipython",
    "version": 3
   },
   "file_extension": ".py",
   "mimetype": "text/x-python",
   "name": "python",
   "nbconvert_exporter": "python",
   "pygments_lexer": "ipython3",
   "version": "3.11.10"
  }
 },
 "nbformat": 4,
 "nbformat_minor": 2
}
